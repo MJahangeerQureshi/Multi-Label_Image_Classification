{
  "nbformat": 4,
  "nbformat_minor": 0,
  "metadata": {
    "colab": {
      "name": "Multi-Label Classification.ipynb",
      "provenance": [],
      "collapsed_sections": [],
      "toc_visible": true,
      "machine_shape": "hm"
    },
    "kernelspec": {
      "name": "python3",
      "display_name": "Python 3"
    },
    "accelerator": "GPU"
  },
  "cells": [
    {
      "cell_type": "markdown",
      "metadata": {
        "id": "4SOMSN_D57gN",
        "colab_type": "text"
      },
      "source": [
        "# Import relevant Libraries"
      ]
    },
    {
      "cell_type": "code",
      "metadata": {
        "id": "59Juj9Iy4pH4",
        "colab_type": "code",
        "colab": {}
      },
      "source": [
        "import tensorflow.keras as keras\n",
        "from tensorflow.keras.models import Sequential\n",
        "from tensorflow.keras.layers import Dense, Dropout, Flatten\n",
        "from tensorflow.keras.layers import Conv2D, MaxPooling2D\n",
        "from tensorflow.keras.utils import to_categorical\n",
        "from tensorflow.keras.preprocessing import image\n",
        "\n",
        "import numpy as np\n",
        "import pandas as pd\n",
        "import matplotlib.pyplot as plt\n",
        "from sklearn.model_selection import train_test_split\n",
        "import keras.backend as K\n",
        "import os\n",
        "from tqdm import tqdm\n",
        "%matplotlib inline"
      ],
      "execution_count": 0,
      "outputs": []
    },
    {
      "cell_type": "markdown",
      "metadata": {
        "id": "kBYcJNBL52OB",
        "colab_type": "text"
      },
      "source": [
        "# Loading Images and their labels"
      ]
    },
    {
      "cell_type": "code",
      "metadata": {
        "id": "-fmUb_a9MA1y",
        "colab_type": "code",
        "outputId": "719794d8-0231-45b9-813a-5b30591d1ef8",
        "colab": {
          "base_uri": "https://localhost:8080/",
          "height": 35
        }
      },
      "source": [
        "train = pd.read_csv('Multi_Label_dataset/train.csv')\n",
        "\n",
        "train_image = []\n",
        "for i in tqdm(range(train.shape[0])):\n",
        "    img = image.load_img('Multi_Label_dataset/Images/'+train['Id'][i]+'.jpg',target_size=(224,224,3))\n",
        "    img = image.img_to_array(img)\n",
        "    img = img/255\n",
        "    train_image.append(img)\n",
        "X = np.array(train_image)\n",
        "\n",
        "y = np.array(train.drop(['Id', 'Genre'],axis=1))\n",
        "\n",
        "X_train, X_test, y_train, y_test = train_test_split(X, y, random_state=42, test_size=0.1)\n",
        "X_train, X_val, y_train, y_val = train_test_split(X_train, y_train, random_state=42, test_size=0.1)"
      ],
      "execution_count": 2,
      "outputs": [
        {
          "output_type": "stream",
          "text": [
            "100%|██████████| 7254/7254 [00:20<00:00, 359.70it/s]\n"
          ],
          "name": "stderr"
        }
      ]
    },
    {
      "cell_type": "markdown",
      "metadata": {
        "id": "42f23R835r_r",
        "colab_type": "text"
      },
      "source": [
        "# Making and compiling the CNN model"
      ]
    },
    {
      "cell_type": "code",
      "metadata": {
        "id": "1hUU28J1Y6LU",
        "colab_type": "code",
        "outputId": "8b4e16bc-11fe-4326-de51-f9feb7f11275",
        "colab": {
          "base_uri": "https://localhost:8080/",
          "height": 883
        }
      },
      "source": [
        "model = Sequential()\n",
        "model.add(Conv2D(filters=16, kernel_size=(5, 5), activation=\"relu\", input_shape=(224,224,3)))\n",
        "model.add(MaxPooling2D(pool_size=(2, 2)))\n",
        "model.add(Dropout(0.25))\n",
        "model.add(Conv2D(filters=32, kernel_size=(5, 5), activation='relu'))\n",
        "model.add(MaxPooling2D(pool_size=(2, 2)))\n",
        "model.add(Dropout(0.25))\n",
        "model.add(Conv2D(filters=64, kernel_size=(5, 5), activation=\"relu\"))\n",
        "model.add(MaxPooling2D(pool_size=(2, 2)))\n",
        "model.add(Dropout(0.25))\n",
        "model.add(Conv2D(filters=64, kernel_size=(5, 5), activation='relu'))\n",
        "model.add(MaxPooling2D(pool_size=(2, 2)))\n",
        "model.add(Dropout(0.25))\n",
        "model.add(Flatten())\n",
        "model.add(Dense(128, activation='relu'))\n",
        "model.add(Dropout(0.5))\n",
        "model.add(Dense(64, activation='relu'))\n",
        "model.add(Dropout(0.5))\n",
        "model.add(Dense(25, activation='sigmoid'))\n",
        "\n",
        "model.summary()"
      ],
      "execution_count": 3,
      "outputs": [
        {
          "output_type": "stream",
          "text": [
            "WARNING:tensorflow:From /usr/local/lib/python3.6/dist-packages/tensorflow_core/python/ops/resource_variable_ops.py:1630: calling BaseResourceVariable.__init__ (from tensorflow.python.ops.resource_variable_ops) with constraint is deprecated and will be removed in a future version.\n",
            "Instructions for updating:\n",
            "If using Keras pass *_constraint arguments to layers.\n",
            "Model: \"sequential\"\n",
            "_________________________________________________________________\n",
            "Layer (type)                 Output Shape              Param #   \n",
            "=================================================================\n",
            "conv2d (Conv2D)              (None, 220, 220, 16)      1216      \n",
            "_________________________________________________________________\n",
            "max_pooling2d (MaxPooling2D) (None, 110, 110, 16)      0         \n",
            "_________________________________________________________________\n",
            "dropout (Dropout)            (None, 110, 110, 16)      0         \n",
            "_________________________________________________________________\n",
            "conv2d_1 (Conv2D)            (None, 106, 106, 32)      12832     \n",
            "_________________________________________________________________\n",
            "max_pooling2d_1 (MaxPooling2 (None, 53, 53, 32)        0         \n",
            "_________________________________________________________________\n",
            "dropout_1 (Dropout)          (None, 53, 53, 32)        0         \n",
            "_________________________________________________________________\n",
            "conv2d_2 (Conv2D)            (None, 49, 49, 64)        51264     \n",
            "_________________________________________________________________\n",
            "max_pooling2d_2 (MaxPooling2 (None, 24, 24, 64)        0         \n",
            "_________________________________________________________________\n",
            "dropout_2 (Dropout)          (None, 24, 24, 64)        0         \n",
            "_________________________________________________________________\n",
            "conv2d_3 (Conv2D)            (None, 20, 20, 64)        102464    \n",
            "_________________________________________________________________\n",
            "max_pooling2d_3 (MaxPooling2 (None, 10, 10, 64)        0         \n",
            "_________________________________________________________________\n",
            "dropout_3 (Dropout)          (None, 10, 10, 64)        0         \n",
            "_________________________________________________________________\n",
            "flatten (Flatten)            (None, 6400)              0         \n",
            "_________________________________________________________________\n",
            "dense (Dense)                (None, 128)               819328    \n",
            "_________________________________________________________________\n",
            "dropout_4 (Dropout)          (None, 128)               0         \n",
            "_________________________________________________________________\n",
            "dense_1 (Dense)              (None, 64)                8256      \n",
            "_________________________________________________________________\n",
            "dropout_5 (Dropout)          (None, 64)                0         \n",
            "_________________________________________________________________\n",
            "dense_2 (Dense)              (None, 25)                1625      \n",
            "=================================================================\n",
            "Total params: 996,985\n",
            "Trainable params: 996,985\n",
            "Non-trainable params: 0\n",
            "_________________________________________________________________\n"
          ],
          "name": "stdout"
        }
      ]
    },
    {
      "cell_type": "markdown",
      "metadata": {
        "id": "EtoVZZ5r5pDK",
        "colab_type": "text"
      },
      "source": [
        "# Training for 10 epochs"
      ]
    },
    {
      "cell_type": "code",
      "metadata": {
        "id": "Nb41udxiY8fQ",
        "colab_type": "code",
        "outputId": "6d47a723-1e96-478c-94fc-dcf01dcf8699",
        "colab": {
          "base_uri": "https://localhost:8080/",
          "height": 505
        }
      },
      "source": [
        "model.compile(optimizer='adam', loss='binary_crossentropy', metrics=['accuracy'])\n",
        "\n",
        "model.fit(X_train, y_train, epochs=10, validation_data=(X_val, y_val), batch_size=32)\n",
        "model.evaluate(X_test, y_test)"
      ],
      "execution_count": 4,
      "outputs": [
        {
          "output_type": "stream",
          "text": [
            "WARNING:tensorflow:From /usr/local/lib/python3.6/dist-packages/tensorflow_core/python/ops/nn_impl.py:183: where (from tensorflow.python.ops.array_ops) is deprecated and will be removed in a future version.\n",
            "Instructions for updating:\n",
            "Use tf.where in 2.0, which has the same broadcast rule as np.where\n",
            "Train on 5875 samples, validate on 653 samples\n",
            "Epoch 1/10\n",
            "5875/5875 [==============================] - 12s 2ms/sample - loss: 0.3469 - acc: 0.8636 - val_loss: 0.2474 - val_acc: 0.9070\n",
            "Epoch 2/10\n",
            "5875/5875 [==============================] - 6s 948us/sample - loss: 0.2671 - acc: 0.9046 - val_loss: 0.2409 - val_acc: 0.9060\n",
            "Epoch 3/10\n",
            "5875/5875 [==============================] - 6s 946us/sample - loss: 0.2574 - acc: 0.9069 - val_loss: 0.2394 - val_acc: 0.9060\n",
            "Epoch 4/10\n",
            "5875/5875 [==============================] - 6s 954us/sample - loss: 0.2519 - acc: 0.9074 - val_loss: 0.2420 - val_acc: 0.9055\n",
            "Epoch 5/10\n",
            "5875/5875 [==============================] - 6s 948us/sample - loss: 0.2493 - acc: 0.9080 - val_loss: 0.2361 - val_acc: 0.9075\n",
            "Epoch 6/10\n",
            "5875/5875 [==============================] - 6s 939us/sample - loss: 0.2472 - acc: 0.9086 - val_loss: 0.2366 - val_acc: 0.9085\n",
            "Epoch 7/10\n",
            "5875/5875 [==============================] - 6s 938us/sample - loss: 0.2449 - acc: 0.9087 - val_loss: 0.2367 - val_acc: 0.9078\n",
            "Epoch 8/10\n",
            "5875/5875 [==============================] - 5s 936us/sample - loss: 0.2437 - acc: 0.9097 - val_loss: 0.2352 - val_acc: 0.9101\n",
            "Epoch 9/10\n",
            "5875/5875 [==============================] - 6s 943us/sample - loss: 0.2429 - acc: 0.9093 - val_loss: 0.2370 - val_acc: 0.9089\n",
            "Epoch 10/10\n",
            "5875/5875 [==============================] - 6s 940us/sample - loss: 0.2417 - acc: 0.9098 - val_loss: 0.2379 - val_acc: 0.9081\n",
            "726/726 [==============================] - 0s 508us/sample - loss: 0.2386 - acc: 0.9101\n"
          ],
          "name": "stdout"
        },
        {
          "output_type": "execute_result",
          "data": {
            "text/plain": [
              "[0.23862200790692953, 0.91013765]"
            ]
          },
          "metadata": {
            "tags": []
          },
          "execution_count": 4
        }
      ]
    },
    {
      "cell_type": "markdown",
      "metadata": {
        "id": "REkWRMGl5TdF",
        "colab_type": "text"
      },
      "source": [
        "# Assesing Model performance\n",
        "## As seen by the f1 score and the correspoding lrap and hamming loss it is evident that the high accuracy is the result of of extreme overfitting\n"
      ]
    },
    {
      "cell_type": "code",
      "metadata": {
        "id": "xNb3Llh8bL1K",
        "colab_type": "code",
        "outputId": "39dc79a6-35c9-40b9-fcdf-37286c6dcbfa",
        "colab": {
          "base_uri": "https://localhost:8080/",
          "height": 425
        }
      },
      "source": [
        "from sklearn.metrics import f1_score, label_ranking_average_precision_score, hamming_loss\n",
        "import warnings\n",
        "warnings.filterwarnings(\"ignore\")\n",
        "\n",
        "pred = model.predict(X_val)\n",
        "\n",
        "print(\"\\nlabel_ranking_average_precision_score\")\n",
        "print(label_ranking_average_precision_score(np.round(pred), y_val))\n",
        "\n",
        "print(\"\\nhamming_loss\")\n",
        "print(hamming_loss(np.round(pred), y_val))\n",
        "\n",
        "print(\"\\nClasswise f1_score\")\n",
        "f1 = []\n",
        "for i in list(pd.DataFrame(np.round(y_val))):\n",
        "  f1.append([f1_score(pd.DataFrame(np.round(pred))[i], pd.DataFrame(np.round(y_val))[i])])\n",
        "\n",
        "pd.DataFrame(f1).hist()\n",
        "plt.show()"
      ],
      "execution_count": 5,
      "outputs": [
        {
          "output_type": "stream",
          "text": [
            "\n",
            "label_ranking_average_precision_score\n",
            "0.3232669729453806\n",
            "\n",
            "hamming_loss\n",
            "0.0919448698315467\n",
            "\n",
            "Classwise f1_score\n"
          ],
          "name": "stdout"
        },
        {
          "output_type": "display_data",
          "data": {
            "image/png": "[encoded data removed]",
            "text/plain": [
              "<Figure size 432x288 with 1 Axes>"
            ]
          },
          "metadata": {
            "tags": []
          }
        }
      ]
    }
  ]
}