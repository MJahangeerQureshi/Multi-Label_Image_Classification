{
  "nbformat": 4,
  "nbformat_minor": 0,
  "metadata": {
    "colab": {
      "name": "Simple Multi-Label Image Classification.ipynb",
      "provenance": [],
      "collapsed_sections": [],
      "machine_shape": "hm"
    },
    "kernelspec": {
      "name": "python3",
      "display_name": "Python 3"
    },
    "accelerator": "GPU"
  },
  "cells": [
    {
      "cell_type": "markdown",
      "metadata": {
        "id": "4SOMSN_D57gN",
        "colab_type": "text"
      },
      "source": [
        "# Import relevant Libraries"
      ]
    },
    {
      "cell_type": "code",
      "metadata": {
        "id": "59Juj9Iy4pH4",
        "colab_type": "code",
        "colab": {}
      },
      "source": [
        "import tensorflow.keras as keras\n",
        "from tensorflow.keras.models import Sequential\n",
        "from tensorflow.keras.layers import Dense, Dropout, Flatten\n",
        "from tensorflow.keras.layers import Conv2D, MaxPooling2D\n",
        "from tensorflow.keras.utils import to_categorical\n",
        "from tensorflow.keras.preprocessing import image\n",
        "\n",
        "import numpy as np\n",
        "import pandas as pd\n",
        "import matplotlib.pyplot as plt\n",
        "from sklearn.model_selection import train_test_split\n",
        "import keras.backend as K\n",
        "import os\n",
        "from tqdm import tqdm\n",
        "%matplotlib inline"
      ],
      "execution_count": 0,
      "outputs": []
    },
    {
      "cell_type": "markdown",
      "metadata": {
        "id": "kBYcJNBL52OB",
        "colab_type": "text"
      },
      "source": [
        "# Loading Images and their labels"
      ]
    },
    {
      "cell_type": "code",
      "metadata": {
        "id": "-fmUb_a9MA1y",
        "colab_type": "code",
        "outputId": "28ef0696-f0fb-4308-eacc-e357c8e0e9ce",
        "colab": {
          "base_uri": "https://localhost:8080/",
          "height": 35
        }
      },
      "source": [
        "train = pd.read_csv('Multi_Label_dataset/train.csv')\n",
        "\n",
        "train_image = []\n",
        "for i in tqdm(range(train.shape[0])):\n",
        "    img = image.load_img('Multi_Label_dataset/Images/'+train['Id'][i]+'.jpg',target_size=(224,224,3))\n",
        "    img = image.img_to_array(img)\n",
        "    img = img/255\n",
        "    train_image.append(img)\n",
        "X = np.array(train_image)\n",
        "\n",
        "y = np.array(train.drop(['Id', 'Genre'],axis=1))\n",
        "\n",
        "X_train, X_test, y_train, y_test = train_test_split(X, y, random_state=42, test_size=0.1)\n",
        "X_train, X_val, y_train, y_val = train_test_split(X_train, y_train, random_state=42, test_size=0.1)"
      ],
      "execution_count": 3,
      "outputs": [
        {
          "output_type": "stream",
          "text": [
            "100%|██████████| 7254/7254 [00:17<00:00, 417.81it/s]\n"
          ],
          "name": "stderr"
        }
      ]
    },
    {
      "cell_type": "markdown",
      "metadata": {
        "id": "42f23R835r_r",
        "colab_type": "text"
      },
      "source": [
        "# Making and compiling the CNN model"
      ]
    },
    {
      "cell_type": "code",
      "metadata": {
        "id": "1hUU28J1Y6LU",
        "colab_type": "code",
        "outputId": "19a4bf19-06c2-4e18-eeb6-005607b48de2",
        "colab": {
          "base_uri": "https://localhost:8080/",
          "height": 883
        }
      },
      "source": [
        "model = Sequential()\n",
        "model.add(Conv2D(filters=16, kernel_size=(5, 5), activation=\"relu\", input_shape=(224,224,3)))\n",
        "model.add(MaxPooling2D(pool_size=(2, 2)))\n",
        "model.add(Dropout(0.25))\n",
        "model.add(Conv2D(filters=32, kernel_size=(5, 5), activation='relu'))\n",
        "model.add(MaxPooling2D(pool_size=(2, 2)))\n",
        "model.add(Dropout(0.25))\n",
        "model.add(Conv2D(filters=64, kernel_size=(5, 5), activation=\"relu\"))\n",
        "model.add(MaxPooling2D(pool_size=(2, 2)))\n",
        "model.add(Dropout(0.25))\n",
        "model.add(Conv2D(filters=64, kernel_size=(5, 5), activation='relu'))\n",
        "model.add(MaxPooling2D(pool_size=(2, 2)))\n",
        "model.add(Dropout(0.25))\n",
        "model.add(Flatten())\n",
        "model.add(Dense(128, activation='relu'))\n",
        "model.add(Dropout(0.5))\n",
        "model.add(Dense(64, activation='relu'))\n",
        "model.add(Dropout(0.5))\n",
        "model.add(Dense(25, activation='sigmoid'))\n",
        "\n",
        "model.summary()"
      ],
      "execution_count": 4,
      "outputs": [
        {
          "output_type": "stream",
          "text": [
            "WARNING:tensorflow:From /usr/local/lib/python3.6/dist-packages/tensorflow_core/python/ops/resource_variable_ops.py:1630: calling BaseResourceVariable.__init__ (from tensorflow.python.ops.resource_variable_ops) with constraint is deprecated and will be removed in a future version.\n",
            "Instructions for updating:\n",
            "If using Keras pass *_constraint arguments to layers.\n",
            "Model: \"sequential\"\n",
            "_________________________________________________________________\n",
            "Layer (type)                 Output Shape              Param #   \n",
            "=================================================================\n",
            "conv2d (Conv2D)              (None, 220, 220, 16)      1216      \n",
            "_________________________________________________________________\n",
            "max_pooling2d (MaxPooling2D) (None, 110, 110, 16)      0         \n",
            "_________________________________________________________________\n",
            "dropout (Dropout)            (None, 110, 110, 16)      0         \n",
            "_________________________________________________________________\n",
            "conv2d_1 (Conv2D)            (None, 106, 106, 32)      12832     \n",
            "_________________________________________________________________\n",
            "max_pooling2d_1 (MaxPooling2 (None, 53, 53, 32)        0         \n",
            "_________________________________________________________________\n",
            "dropout_1 (Dropout)          (None, 53, 53, 32)        0         \n",
            "_________________________________________________________________\n",
            "conv2d_2 (Conv2D)            (None, 49, 49, 64)        51264     \n",
            "_________________________________________________________________\n",
            "max_pooling2d_2 (MaxPooling2 (None, 24, 24, 64)        0         \n",
            "_________________________________________________________________\n",
            "dropout_2 (Dropout)          (None, 24, 24, 64)        0         \n",
            "_________________________________________________________________\n",
            "conv2d_3 (Conv2D)            (None, 20, 20, 64)        102464    \n",
            "_________________________________________________________________\n",
            "max_pooling2d_3 (MaxPooling2 (None, 10, 10, 64)        0         \n",
            "_________________________________________________________________\n",
            "dropout_3 (Dropout)          (None, 10, 10, 64)        0         \n",
            "_________________________________________________________________\n",
            "flatten (Flatten)            (None, 6400)              0         \n",
            "_________________________________________________________________\n",
            "dense (Dense)                (None, 128)               819328    \n",
            "_________________________________________________________________\n",
            "dropout_4 (Dropout)          (None, 128)               0         \n",
            "_________________________________________________________________\n",
            "dense_1 (Dense)              (None, 64)                8256      \n",
            "_________________________________________________________________\n",
            "dropout_5 (Dropout)          (None, 64)                0         \n",
            "_________________________________________________________________\n",
            "dense_2 (Dense)              (None, 25)                1625      \n",
            "=================================================================\n",
            "Total params: 996,985\n",
            "Trainable params: 996,985\n",
            "Non-trainable params: 0\n",
            "_________________________________________________________________\n"
          ],
          "name": "stdout"
        }
      ]
    },
    {
      "cell_type": "markdown",
      "metadata": {
        "id": "EtoVZZ5r5pDK",
        "colab_type": "text"
      },
      "source": [
        "# Training"
      ]
    },
    {
      "cell_type": "code",
      "metadata": {
        "id": "Nb41udxiY8fQ",
        "colab_type": "code",
        "outputId": "8222dd44-e7e3-4aad-93c6-d6847d7c9278",
        "colab": {
          "base_uri": "https://localhost:8080/",
          "height": 505
        }
      },
      "source": [
        "model.compile(optimizer='adam', loss='binary_crossentropy', metrics=['accuracy'])\n",
        "\n",
        "model.fit(X_train, y_train, epochs=10, validation_data=(X_val, y_val), batch_size=32)\n",
        "model.evaluate(X_test, y_test)"
      ],
      "execution_count": 5,
      "outputs": [
        {
          "output_type": "stream",
          "text": [
            "WARNING:tensorflow:From /usr/local/lib/python3.6/dist-packages/tensorflow_core/python/ops/nn_impl.py:183: where (from tensorflow.python.ops.array_ops) is deprecated and will be removed in a future version.\n",
            "Instructions for updating:\n",
            "Use tf.where in 2.0, which has the same broadcast rule as np.where\n",
            "Train on 5875 samples, validate on 653 samples\n",
            "Epoch 1/10\n",
            "5875/5875 [==============================] - 12s 2ms/sample - loss: 0.3400 - acc: 0.8677 - val_loss: 0.2551 - val_acc: 0.9073\n",
            "Epoch 2/10\n",
            "5875/5875 [==============================] - 6s 948us/sample - loss: 0.2665 - acc: 0.9052 - val_loss: 0.2455 - val_acc: 0.9055\n",
            "Epoch 3/10\n",
            "5875/5875 [==============================] - 6s 954us/sample - loss: 0.2574 - acc: 0.9061 - val_loss: 0.2419 - val_acc: 0.9073\n",
            "Epoch 4/10\n",
            "5875/5875 [==============================] - 6s 959us/sample - loss: 0.2529 - acc: 0.9079 - val_loss: 0.2395 - val_acc: 0.9089\n",
            "Epoch 5/10\n",
            "5875/5875 [==============================] - 6s 964us/sample - loss: 0.2494 - acc: 0.9080 - val_loss: 0.2372 - val_acc: 0.9093\n",
            "Epoch 6/10\n",
            "5875/5875 [==============================] - 6s 956us/sample - loss: 0.2469 - acc: 0.9084 - val_loss: 0.2366 - val_acc: 0.9080\n",
            "Epoch 7/10\n",
            "5875/5875 [==============================] - 6s 952us/sample - loss: 0.2446 - acc: 0.9092 - val_loss: 0.2358 - val_acc: 0.9101\n",
            "Epoch 8/10\n",
            "5875/5875 [==============================] - 6s 945us/sample - loss: 0.2429 - acc: 0.9101 - val_loss: 0.2379 - val_acc: 0.9085\n",
            "Epoch 9/10\n",
            "5875/5875 [==============================] - 6s 946us/sample - loss: 0.2422 - acc: 0.9094 - val_loss: 0.2354 - val_acc: 0.9104\n",
            "Epoch 10/10\n",
            "5875/5875 [==============================] - 6s 950us/sample - loss: 0.2412 - acc: 0.9101 - val_loss: 0.2373 - val_acc: 0.9095\n",
            "726/726 [==============================] - 0s 533us/sample - loss: 0.2363 - acc: 0.9111\n"
          ],
          "name": "stdout"
        },
        {
          "output_type": "execute_result",
          "data": {
            "text/plain": [
              "[0.236276872804999, 0.9110744]"
            ]
          },
          "metadata": {
            "tags": []
          },
          "execution_count": 5
        }
      ]
    },
    {
      "cell_type": "markdown",
      "metadata": {
        "id": "REkWRMGl5TdF",
        "colab_type": "text"
      },
      "source": [
        "## As seen by the f1 score and the correspoding lrap and hamming loss it is evident that the high accuracy is the result of of extreme overfitting\n"
      ]
    },
    {
      "cell_type": "code",
      "metadata": {
        "id": "xNb3Llh8bL1K",
        "colab_type": "code",
        "outputId": "5fa9a49d-bf1d-4ca5-82bb-4feaadf146e8",
        "colab": {
          "base_uri": "https://localhost:8080/",
          "height": 649
        }
      },
      "source": [
        "from sklearn.metrics import f1_score, label_ranking_average_precision_score, hamming_loss\n",
        "\n",
        "pred = model.predict(X_val)\n",
        "\n",
        "print(\"Classwise f1_score\")\n",
        "for i in list(pd.DataFrame(np.round(y_val))):\n",
        "  print(f1_score(pd.DataFrame(np.round(pred))[i], pd.DataFrame(np.round(y_val))[i]))\n",
        "\n",
        "print(\"label_ranking_average_precision_score\")\n",
        "print(label_ranking_average_precision_score(np.round(pred), y_val))\n",
        "\n",
        "print(\"hamming_loss\")\n",
        "print(hamming_loss(np.round(pred), y_val))"
      ],
      "execution_count": 14,
      "outputs": [
        {
          "output_type": "stream",
          "text": [
            "Classwise f1_score\n",
            "0.0\n",
            "0.0\n",
            "0.0\n",
            "0.0\n",
            "0.6425196850393702\n",
            "0.0\n",
            "0.0\n",
            "0.507177033492823\n",
            "0.0\n",
            "0.0\n",
            "0.0\n",
            "0.0\n",
            "0.0\n",
            "0.0\n",
            "0.0\n",
            "0.0\n",
            "0.0\n",
            "0.0\n",
            "0.0\n",
            "0.0\n",
            "0.0\n",
            "0.0\n",
            "0.0\n",
            "0.0\n",
            "0.0\n",
            "label_ranking_average_precision_score\n",
            "0.28062276671771347\n",
            "hamming_loss\n",
            "0.09053598774885145\n"
          ],
          "name": "stdout"
        },
        {
          "output_type": "stream",
          "text": [
            "/usr/local/lib/python3.6/dist-packages/sklearn/metrics/classification.py:1439: UndefinedMetricWarning: F-score is ill-defined and being set to 0.0 due to no true samples.\n",
            "  'recall', 'true', average, warn_for)\n",
            "/usr/local/lib/python3.6/dist-packages/sklearn/metrics/classification.py:1437: UndefinedMetricWarning: F-score is ill-defined and being set to 0.0 due to no predicted samples.\n",
            "  'precision', 'predicted', average, warn_for)\n"
          ],
          "name": "stderr"
        }
      ]
    }
  ]
}